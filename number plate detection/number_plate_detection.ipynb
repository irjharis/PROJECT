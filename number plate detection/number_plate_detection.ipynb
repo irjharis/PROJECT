{
 "cells": [
  {
   "cell_type": "code",
   "execution_count": 2,
   "metadata": {},
   "outputs": [],
   "source": [
    "import cv2\n",
    "\n",
    "cap = cv2.VideoCapture(0)\n",
    "cap.set(3, 640) # width\n",
    "cap.set(4, 480) #height\n",
    "\n",
    "min_area = 550\n",
    "count = 0\n",
    "\n",
    "while True:\n",
    "    # Capture video frame\n",
    "    success, img = cap.read()\n",
    "    # algorithm used haarcascade_russian_plate_number\n",
    "    plate_cascade = cv2.CascadeClassifier(cv2.data.haarcascades +\"haarcascade_russian_plate_number.xml\")\n",
    "    # Convert color to grayscale\n",
    "    img_gray = cv2.cvtColor(img, cv2.COLOR_BGR2GRAY)\n",
    "    # 1.3=scale factor 2= minNeighbors\n",
    "    plates = plate_cascade.detectMultiScale(img_gray, scaleFactor=2, minNeighbors=2)\n",
    "\n",
    "    # Loops for each plates\n",
    "    for (x,y,w,h) in plates:\n",
    "        area = w * h\n",
    "\n",
    "        if area > min_area:\n",
    "            cv2.rectangle(img, (x, y), (x + w, y + h), (0, 255, 0), 2)  # BGR  2 show thickness\n",
    "            cv2.putText(img, \"Number Plate\", (x,y-5), cv2.FONT_HERSHEY_COMPLEX_SMALL, 1, (255, 0, 255), 2)\n",
    "            # img_roi = img[y: y+h, x:x+w]\n",
    "            # cv2.imshow(\"ROI\", img_roi)\n",
    "            # cv2.imwrite(\"plates/scaned_img_\" + str(count) + \".jpg\", img_roi)\n",
    "            cv2.imwrite(f\"dataset/scaned_img_\" + str(count) + \".jpg\", img_gray[y:y + h, x:x + w])\n",
    "            count += 1\n",
    "            \n",
    "\n",
    "    cv2.imshow(\"Frame\", img)\n",
    "    k = cv2.waitKey(1)\n",
    "    # press enter to exit\n",
    "    if k == 13 : \n",
    "        break\n",
    "    # elif count>=5:\n",
    "    #     break\n",
    "\n",
    "cap.release()\n",
    "cv2.destroyAllWindows()"
   ]
  }
 ],
 "metadata": {
  "kernelspec": {
   "display_name": "Python 3",
   "language": "python",
   "name": "python3"
  },
  "language_info": {
   "codemirror_mode": {
    "name": "ipython",
    "version": 3
   },
   "file_extension": ".py",
   "mimetype": "text/x-python",
   "name": "python",
   "nbconvert_exporter": "python",
   "pygments_lexer": "ipython3",
   "version": "3.11.4"
  }
 },
 "nbformat": 4,
 "nbformat_minor": 2
}
